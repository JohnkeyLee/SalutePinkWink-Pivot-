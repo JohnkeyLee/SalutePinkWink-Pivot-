{
 "cells": [
  {
   "cell_type": "code",
   "execution_count": null,
   "metadata": {},
   "outputs": [],
   "source": [
    "#pip install seaborn\n",
    "# 'seaborn' should be imported with 'matplotlib'\n",
    "import numpy as np\n",
    "import matplotlib.pyplot as plt\n",
    "%matplotlib inline\n",
    "import seaborn as sns\n",
    "# 'linspace' is an in-built function in Python’s NumPy library. It is used to create an evenly spaced sequence in a specified interval.\n",
    "x = np.linspace(0, 14, 100)\n",
    "y1 = np.sin(x)\n",
    "y2 = 2*np.sin(x+0.5)\n",
    "y3 = 3*np.sin(x+1.0)\n",
    "y4 = 4*np.sin(x+1.5)\n",
    "\n",
    "plt.figure(figsize=(10,6))\n",
    "plt.plot(x,y1, x,y2, x,y3, x,y4)\n",
    "plt.show()"
   ]
  },
  {
   "cell_type": "code",
   "execution_count": null,
   "metadata": {},
   "outputs": [],
   "source": [
    "sns.set_style(\"whitegrid\")\n",
    "\n",
    "plt.figure(figsize=(10,6))\n",
    "plt.plot(x,y1, x,y2, x,y3, x,y4)\n",
    "plt.show()"
   ]
  },
  {
   "cell_type": "code",
   "execution_count": null,
   "metadata": {},
   "outputs": [],
   "source": [
    "# This function is to call the pre-built data set in 'seaborn'\n",
    "tips = sns.load_dataset(\"tips\")\n",
    "print(tips.head())\n",
    "\n",
    "# This is to plot the boxplot and it automatically draws median, 25%, 50%, and 75%\n",
    "plt.figure(figsize=(8,6))\n",
    "sns.boxplot(x='day', y='total_bill', data=tips)\n",
    "plt.show()\n",
    "\n",
    "# It is like the first one, but, based on the smoking habit, Boolean type data will be applied\n",
    "# 'palette' is to pick the color set and 'Set' should start with the capital letter\n",
    "plt.figure(figsize=(8,6))\n",
    "sns.boxplot(x='day', y='total_bill', hue='smoker', data=tips, palette='Set3')\n",
    "plt.show()\n",
    "\n",
    "# 'lmplot' is to plot data and regression model fits across a FacetGrid.\n",
    "# If you don't set the exact CI, it plots 95%\n",
    "sns.set_style('darkgrid')\n",
    "sns.lmplot(x='total_bill', y='tip', data=tips)\n",
    "plt.show()\n",
    "\n",
    "sns.set_style('darkgrid')\n",
    "sns.lmplot(x='total_bill', y='tip', hue='smoker', data=tips, palette='Set1')\n",
    "plt.show()"
   ]
  },
  {
   "cell_type": "code",
   "execution_count": null,
   "metadata": {},
   "outputs": [],
   "source": [
    "# This is to call one of the pre-built data set\n",
    "flights = sns.load_dataset('flights')\n",
    "print(flights)\n",
    "\n",
    "flights = flights.pivot('month', 'year', 'passengers')\n",
    "print(flights)\n",
    "\n",
    "plt.figure(figsize=(10,8))\n",
    "# If 'annot' is 'True', it will write the data value in each cell in the heat map\n",
    "# 'fmt' means the decimal point. 'd' is no, '.1f' has one...\n",
    "sns.heatmap(flights, annot=True, fmt='d')\n",
    "plt.show()\n"
   ]
  },
  {
   "cell_type": "code",
   "execution_count": null,
   "metadata": {},
   "outputs": [],
   "source": [
    "# This is to call the pre-built data set in 'seaborn'\n",
    "sns.set(style='ticks')\n",
    "iris = sns.load_dataset('iris')\n",
    "print(iris)\n",
    "\n",
    "sns.pairplot(iris, hue='species')\n",
    "plt.show()"
   ]
  }
 ],
 "metadata": {
  "kernelspec": {
   "display_name": "Python 3",
   "language": "python",
   "name": "python3"
  },
  "language_info": {
   "codemirror_mode": {
    "name": "ipython",
    "version": 3
   },
   "file_extension": ".py",
   "mimetype": "text/x-python",
   "name": "python",
   "nbconvert_exporter": "python",
   "pygments_lexer": "ipython3",
   "version": "3.9.5"
  },
  "orig_nbformat": 4
 },
 "nbformat": 4,
 "nbformat_minor": 2
}
