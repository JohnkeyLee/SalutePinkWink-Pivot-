{
 "cells": [
  {
   "cell_type": "code",
   "execution_count": null,
   "metadata": {},
   "outputs": [],
   "source": [
    "# pip install folium\n",
    "import folium\n",
    "import pandas as pd\n",
    "\n",
    "map_osm = folium.Map(location=[45.5236, -122.6750])\n",
    "map_osm"
   ]
  },
  {
   "cell_type": "code",
   "execution_count": null,
   "metadata": {},
   "outputs": [],
   "source": [
    "# This is to zoom into the map\n",
    "stamen = folium.Map(location=[45.5236, -122.6750], zoom_start=13)\n",
    "stamen"
   ]
  },
  {
   "cell_type": "code",
   "execution_count": null,
   "metadata": {},
   "outputs": [],
   "source": [
    "# 'tiles' is to set a color set for the map\n",
    "stamen = folium.Map(location=[45.5236, -122.6750], tiles='Stamen Toner', zoom_start=13)\n",
    "stamen"
   ]
  },
  {
   "cell_type": "code",
   "execution_count": null,
   "metadata": {},
   "outputs": [],
   "source": [
    "map_2 = folium.Map(location=[45.5236, -122.6750], tiles='Stamen Toner', zoom_start=13)\n",
    "# This is to add a marker on the map and the marker is on the 'The Waterfront'\n",
    "# 'add_to' function is to add a something on the map\n",
    "folium.Marker([45.5244, -122.6699], popup='The Waterfront').add_to(map_2)\n",
    "# This is to add a semi transparent circle on the map with 'radius=50' and the circle is on the 'Laurelhurst Park'\n",
    "folium.CircleMarker([45.5215, -122.6261], radius=50, popup='Laurelhurst Park', color='#3186cc', fill_color='#3186cc').add_to(map_2)\n",
    "map_2"
   ]
  },
  {
   "cell_type": "code",
   "execution_count": null,
   "metadata": {},
   "outputs": [],
   "source": [
    "# This is to call the data set\n",
    "state_unemployment = 'C:\\\\Users\\\\pig69\\\\Desktop\\\\17_Python\\\\DataScience\\\\data\\\\02. folium_US_Unemployment_Oct2012.csv'\n",
    "\n",
    "state_data = pd.read_csv(state_unemployment)\n",
    "state_data.head()"
   ]
  },
  {
   "cell_type": "code",
   "execution_count": null,
   "metadata": {},
   "outputs": [],
   "source": [
    "# This is to draw the unemployment on the map of U.S. based on the called data set\n",
    "# This is to call 'json' file containing the lince of the map of U.S. \n",
    "state_geo = 'C:\\\\Users\\\\pig69\\\\Desktop\\\\17_Python\\\\DataScience\\\\data\\\\02. folium_us-states.json'\n",
    "# This is to set the original point when we recieve the mapped map\n",
    "map = folium.Map(location=[40,-98], zoom_start=4)\n",
    "# \n",
    "map.choropleth(geo_data=state_geo, data=state_data, columns=['State', 'Unemployment'], key_on='feature.id', fill_color='YlGn', legend_name='Unempolyment Rate (%)')\n",
    "map"
   ]
  }
 ],
 "metadata": {
  "kernelspec": {
   "display_name": "Python 3",
   "language": "python",
   "name": "python3"
  },
  "language_info": {
   "codemirror_mode": {
    "name": "ipython",
    "version": 3
   },
   "file_extension": ".py",
   "mimetype": "text/x-python",
   "name": "python",
   "nbconvert_exporter": "python",
   "pygments_lexer": "ipython3",
   "version": "3.9.5"
  },
  "orig_nbformat": 4
 },
 "nbformat": 4,
 "nbformat_minor": 2
}
