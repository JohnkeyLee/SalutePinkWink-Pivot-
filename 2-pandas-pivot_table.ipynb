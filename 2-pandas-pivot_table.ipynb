{
 "cells": [
  {
   "cell_type": "code",
   "execution_count": null,
   "metadata": {},
   "outputs": [],
   "source": [
    "import pandas as pd\n",
    "import numpy as np\n",
    "\n",
    "df = pd.read_csv('G:\\\\My Drive\\\\Jongki-study\\\\05_Manual\\\\17_Python\\\\DataScience\\\\data\\\\salesfunnel.csv')\n",
    "print(df.head())"
   ]
  },
  {
   "cell_type": "code",
   "execution_count": null,
   "metadata": {},
   "outputs": [],
   "source": [
    "# This is to creat a pivot table based on the designated index (here, 'Name')\n",
    "# All the character based data is gone and the numbered data leaves\n",
    "# The numbers are averaged which is the default set up\n",
    "print(pd.pivot_table(df, index=['Name']))\n",
    "print(pd.pivot_table(df, index=['Name', 'Rep', 'Manager']))"
   ]
  },
  {
   "cell_type": "code",
   "execution_count": null,
   "metadata": {},
   "outputs": [],
   "source": [
    "\n",
    "# This is to create the pivot table based on two index and show the price\n",
    "print(pd.pivot_table(df, index=['Manager', 'Rep'], values=[\"Price\"]))\n",
    "# This is to create the same table above, but it will return summation\n",
    "print(pd.pivot_table(df, index=['Manager', 'Rep'], values=['Price'], aggfunc=np.sum))\n",
    "# This is to create a big pivot table based on the designated indexes ('Manager', 'Rep', 'Product') and it will return the data in 'Price' and 'Quantity'\n",
    "# 'aggfunc' is to apply a designated calculation, and here there are two returns (sum and mean)\n",
    "# 'fill_value=0' is to return 0 when a cell has NaN\n",
    "# If 'margins=True', ALL columns and rows will be added with partial group aggregates across the categories on the rows and columns.\n",
    "print(pd.pivot_table(df, index=['Manager', 'Rep', 'Product'], values=['Price', 'Quantity'], aggfunc=[np.sum,np.mean], fill_value=0,margins=True))\n"
   ]
  },
  {
   "cell_type": "code",
   "execution_count": null,
   "metadata": {},
   "outputs": [],
   "source": []
  }
 ],
 "metadata": {
  "kernelspec": {
   "display_name": "Python 3",
   "language": "python",
   "name": "python3"
  },
  "language_info": {
   "codemirror_mode": {
    "name": "ipython",
    "version": 3
   },
   "file_extension": ".py",
   "mimetype": "text/x-python",
   "name": "python",
   "nbconvert_exporter": "python",
   "pygments_lexer": "ipython3",
   "version": "3.9.5"
  },
  "orig_nbformat": 4
 },
 "nbformat": 4,
 "nbformat_minor": 2
}
